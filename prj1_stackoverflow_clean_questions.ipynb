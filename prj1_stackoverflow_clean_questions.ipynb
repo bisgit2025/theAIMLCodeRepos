{
 "cells": [
  {
   "cell_type": "code",
   "execution_count": null,
   "metadata": {
    "_cell_guid": "b1076dfc-b9ad-4769-8c92-a6c4dae69d19",
    "_uuid": "8f2839f25d086af736a60e9eeb907d3b93b6e0e5"
   },
   "outputs": [],
   "source": [
    "# Project 1 : Multiclass Multilabel prediction For stack overflow Questions\n",
    "\n",
    "import numpy as np \n",
    "import pandas as pd\n",
    "\n",
    "import collections\n",
    "\n",
    "# Data: https://www.dropbox.com/s/5721wcs2guuykzl/stacksample.zip?dl=0\n",
    "# Input data files are kept in the \"../Project1/data/\" directory.\n",
    "\n",
    "import os\n",
    "print(os.listdir(\"../Project1/data\"))\n",
    "\n",
    "# Any results you write to the current directory are saved as output."
   ]
  },
  {
   "cell_type": "code",
   "execution_count": null,
   "metadata": {
    "_cell_guid": "79c7e3d0-c299-4dcb-8224-4455121ee9b0",
    "_uuid": "d629ff2d2480ee46fbb7e2d37f6b5fab8052498a"
   },
   "outputs": [],
   "source": [
    "ques_data = pd.read_csv('../Project1/Data/Questions.csv') #,encoding='iso-8859-1')\n",
    "ques_data.head(10)"
   ]
  },
  {
   "cell_type": "code",
   "execution_count": null,
   "metadata": {
    "_uuid": "3a963c29707e29d8df14b8f48e45d25b336fcdb0"
   },
   "outputs": [],
   "source": [
    "ques_data.drop(['OwnerUserId',\"CreationDate\",\"ClosedDate\",\"Score\"], axis=1, inplace=True)\n",
    "ques_data.head(10)\n",
    "\n",
    "#for col in ['OwnerUserId', 'CreationDate' , 'ClosedDate' , 'Score']: \n",
    " #   ques.drop(col,axis=1,inplace=True)\n",
    " #   ques.drop(col,axis=1,inplace=True)"
   ]
  },
  {
   "cell_type": "code",
   "execution_count": null,
   "metadata": {
    "_uuid": "b1305b3807f362fec50a13a76d68d35fa45c3380"
   },
   "outputs": [],
   "source": [
    "import re \n",
    "\n",
    "def rem_html_tags(body):\n",
    "    regex = re.compile('<.*?>')\n",
    "    return re.sub(regex, '', body)"
   ]
  },
  {
   "cell_type": "code",
   "execution_count": null,
   "metadata": {
    "_uuid": "f0340076f170cc798549f9da6ce46962d9f81c6b"
   },
   "outputs": [],
   "source": [
    "ques_data['Body'] = ques_data['Body'].apply(rem_html_tags)\n",
    "ques_data.head()"
   ]
  },
  {
   "cell_type": "code",
   "execution_count": null,
   "metadata": {
    "_uuid": "af150557dcf11050e0e7dbc8bcbb0ef2c5015636"
   },
   "outputs": [],
   "source": [
    "ques_data.to_csv('question_clean.csv',index=False)"
   ]
  },
  {
   "cell_type": "code",
   "execution_count": null,
   "metadata": {},
   "outputs": [],
   "source": []
  },
  {
   "cell_type": "code",
   "execution_count": null,
   "metadata": {},
   "outputs": [],
   "source": []
  }
 ],
 "metadata": {
  "kernelspec": {
   "display_name": "Python 3",
   "language": "python",
   "name": "python3"
  },
  "language_info": {
   "codemirror_mode": {
    "name": "ipython",
    "version": 3
   },
   "file_extension": ".py",
   "mimetype": "text/x-python",
   "name": "python",
   "nbconvert_exporter": "python",
   "pygments_lexer": "ipython3",
   "version": "3.8.8"
  }
 },
 "nbformat": 4,
 "nbformat_minor": 1
}
